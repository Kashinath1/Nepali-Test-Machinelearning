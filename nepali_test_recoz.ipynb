{
 "cells": [
  {
   "cell_type": "markdown",
   "metadata": {},
   "source": [
    "# Analysis of Nepali Character Recognition system\n",
    "\n",
    "### <font color=\"blue\">Team: </font>  \n",
    "### <font color=\"blue\">1)Kashi Bhattarai</font>  \n",
    "### <font color=\"blue\">2)Birav Bhattarai</font>  \n",
    "### <font color=\"blue\">2)Jimmy Das</font>"
   ]
  },
  {
   "cell_type": "code",
   "execution_count": 49,
   "metadata": {},
   "outputs": [],
   "source": [
    "import tensorflow as tf\n",
    "import matplotlib.pyplot as plt\n",
    "import matplotlib.image as mpimage\n",
    "from PIL import Image\n",
    "import numpy as np\n",
    "import os\n",
    "# import random\n",
    "from sklearn import ensemble,preprocessing\n",
    "import keras.utils.np_utils"
   ]
  },
  {
   "cell_type": "markdown",
   "metadata": {},
   "source": [
    "# Read the images"
   ]
  },
  {
   "cell_type": "code",
   "execution_count": 50,
   "metadata": {},
   "outputs": [
    {
     "name": "stdout",
     "output_type": "stream",
     "text": [
      "Size of the image matrix =  62668800\n"
     ]
    }
   ],
   "source": [
    "path = \"./Sample/Train_Full_Data/\"\n",
    "\n",
    "\n",
    "folders = os.listdir(path)\n",
    "imageList=[]\n",
    "imageMatrix = []\n",
    "newIm = []\n",
    "labels=[]\n",
    "# Get list of folders in current path\n",
    "for folder in folders:\n",
    "    newPath = path + folder  #Create new path by adding folder name\n",
    "    folderName = os.path.split(os.path.abspath(newPath))[1]\n",
    "    characterName = folderName.split(\"_\")[2]\n",
    "    imageList=[f for f in os.listdir(newPath) if os.path.splitext(f)[-1] == '.png'] #Check if PNG files only then add\n",
    "    for image in imageList:   #Traverse the list of files and add each file name to the imageFile\n",
    "        im = Image.open(newPath+\"//\"+image)\n",
    "        labels.append(characterName)\n",
    "        imageArray = np.asarray(im.getdata())\n",
    "        flattenedImageArray = imageArray.flatten()\n",
    "        imageMatrix.append(flattenedImageArray)\n",
    "print(\"Size of the image matrix = \",np.size(imageMatrix))"
   ]
  },
  {
   "cell_type": "code",
   "execution_count": 51,
   "metadata": {},
   "outputs": [],
   "source": [
    "X = labels\n"
   ]
  },
  {
   "cell_type": "code",
   "execution_count": 52,
   "metadata": {},
   "outputs": [],
   "source": [
    "import pickle\n",
    "labe = open(\"labels.pickle\", \"wb\")\n",
    "pickle.dump(X, labe)\n",
    "labe.close()"
   ]
  },
  {
   "cell_type": "code",
   "execution_count": null,
   "metadata": {},
   "outputs": [],
   "source": []
  },
  {
   "cell_type": "code",
   "execution_count": 53,
   "metadata": {},
   "outputs": [],
   "source": [
    "Y = open('labels.pickle', 'rb')\n",
    "Z = pickle.load(Y)"
   ]
  },
  {
   "cell_type": "code",
   "execution_count": 54,
   "metadata": {},
   "outputs": [
    {
     "name": "stdout",
     "output_type": "stream",
     "text": [
      "(61200, 1024)\n"
     ]
    }
   ],
   "source": [
    "a = np.array(imageMatrix)\n",
    "a\n",
    "print(a.shape)"
   ]
  },
  {
   "cell_type": "code",
   "execution_count": 55,
   "metadata": {},
   "outputs": [
    {
     "name": "stdout",
     "output_type": "stream",
     "text": [
      "Features size =  (61200, 1024)\n",
      "Labels size =  (61200,)\n",
      "['yna' 'yna' 'yna' ... 'jha' 'jha' 'jha']\n"
     ]
    }
   ],
   "source": [
    "#define variables\n",
    "n_samples = len(a)\n",
    "X = a.reshape((n_samples,-1))\n",
    "T = np.array(labels)\n",
    "print('Features size = ',X.shape)\n",
    "print('Labels size = ',T.shape)\n",
    "print(T)\n"
   ]
  },
  {
   "cell_type": "code",
   "execution_count": 56,
   "metadata": {},
   "outputs": [],
   "source": [
    "le=preprocessing.LabelEncoder()\n",
    "le.fit(T)\n",
    "T=le.transform(T)\n",
    "\n",
    "T=keras.utils.np_utils.to_categorical(T)"
   ]
  },
  {
   "cell_type": "code",
   "execution_count": 57,
   "metadata": {},
   "outputs": [
    {
     "name": "stdout",
     "output_type": "stream",
     "text": [
      "{'adna': 0, 'ba': 1, 'bha': 2, 'cha': 3, 'chha': 4, 'chhya': 5, 'da': 6, 'daa': 7, 'dha': 8, 'dhaa': 9, 'ga': 10, 'gha': 11, 'gya': 12, 'ha': 13, 'ja': 14, 'jha': 15, 'ka': 16, 'kha': 17, 'kna': 18, 'la': 19, 'ma': 20, 'motosaw': 21, 'na': 22, 'pa': 23, 'patalosaw': 24, 'petchiryakha': 25, 'pha': 26, 'ra': 27, 'taamatar': 28, 'tabala': 29, 'tha': 30, 'thaa': 31, 'tra': 32, 'waw': 33, 'yaw': 34, 'yna': 35}\n"
     ]
    }
   ],
   "source": [
    "le_name_mapping = dict(zip(le.classes_, le.transform(le.classes_)))\n",
    "print(le_name_mapping)"
   ]
  },
  {
   "cell_type": "code",
   "execution_count": 58,
   "metadata": {},
   "outputs": [],
   "source": [
    "from sklearn.model_selection import train_test_split\n",
    "X_train, X_test, T_train, T_test = train_test_split(X, T, test_size=0.3, random_state=34)"
   ]
  },
  {
   "cell_type": "code",
   "execution_count": 59,
   "metadata": {},
   "outputs": [
    {
     "name": "stdout",
     "output_type": "stream",
     "text": [
      "Train size =  (42840, 1024)   (42840, 36)\n"
     ]
    }
   ],
   "source": [
    "print('Train size = ',X_train.shape,\" \",T_train.shape)"
   ]
  },
  {
   "cell_type": "code",
   "execution_count": 60,
   "metadata": {},
   "outputs": [],
   "source": [
    "import numpy as np\n",
    "import keras\n",
    "from keras import models, layers, losses, optimizers, metrics\n",
    "from tensorflow.keras.utils import to_categorical\n",
    "from sklearn.preprocessing import StandardScaler,LabelEncoder,OneHotEncoder\n",
    "import pandas as pd\n",
    "from sklearn.model_selection import train_test_split\n",
    "import matplotlib.pyplot as plt\n",
    "%matplotlib inline\n",
    "from keras.layers import Dense, Conv2D, MaxPool2D, Flatten, Dropout\n",
    "from keras.models import Sequential\n"
   ]
  },
  {
   "cell_type": "code",
   "execution_count": 61,
   "metadata": {},
   "outputs": [],
   "source": [
    "img_height_rows = 32\n",
    "img_width_cols = 32"
   ]
  },
  {
   "cell_type": "code",
   "execution_count": 62,
   "metadata": {},
   "outputs": [
    {
     "name": "stdout",
     "output_type": "stream",
     "text": [
      "(32, 32, 1)\n"
     ]
    }
   ],
   "source": [
    "im_shape = (img_height_rows, img_width_cols, 1)\n",
    "print(im_shape)\n",
    "x_train = X_train.reshape(X_train.shape[0], *im_shape) # Python TIP :the * operator unpacks the tuple\n",
    "x_test = X_test.reshape(X_test.shape[0], *im_shape)"
   ]
  },
  {
   "cell_type": "markdown",
   "metadata": {},
   "source": [
    "# algorithm start from here"
   ]
  },
  {
   "cell_type": "code",
   "execution_count": 63,
   "metadata": {},
   "outputs": [],
   "source": [
    "\n",
    "cnn = Sequential()\n",
    "\n",
    "kernelSize = (3, 3)\n",
    "ip_activation = 'relu'\n",
    "ip_conv_0 = Conv2D(filters=4, kernel_size=kernelSize, input_shape=im_shape, activation=ip_activation)\n",
    "cnn.add(ip_conv_0)"
   ]
  },
  {
   "cell_type": "code",
   "execution_count": 64,
   "metadata": {},
   "outputs": [],
   "source": [
    "from keras.layers import Conv2D"
   ]
  },
  {
   "cell_type": "code",
   "execution_count": 65,
   "metadata": {},
   "outputs": [],
   "source": [
    "# Add the next Convolutional+Activation layer\n",
    "ip_conv_0_1 = Conv2D(filters=4, kernel_size=kernelSize, activation=ip_activation)\n",
    "cnn.add(ip_conv_0_1)\n",
    "\n",
    "# Add the Pooling layer\n",
    "pool_0 = MaxPool2D(pool_size=(2, 2), strides=(2, 2), padding=\"same\")\n",
    "cnn.add(pool_0)"
   ]
  },
  {
   "cell_type": "code",
   "execution_count": 66,
   "metadata": {},
   "outputs": [],
   "source": [
    "ip_conv_1 = Conv2D(filters=4, kernel_size=kernelSize, activation=ip_activation)\n",
    "cnn.add(ip_conv_1)\n",
    "ip_conv_1_1 = Conv2D(filters=4, kernel_size=kernelSize, activation=ip_activation)\n",
    "cnn.add(ip_conv_1_1)\n",
    "\n",
    "pool_1 = MaxPool2D(pool_size=(2, 2), strides=(2, 2), padding=\"same\")\n",
    "cnn.add(pool_1)"
   ]
  },
  {
   "cell_type": "code",
   "execution_count": 67,
   "metadata": {},
   "outputs": [],
   "source": [
    "flat_layer_0 = Flatten()\n",
    "cnn.add(Flatten())"
   ]
  },
  {
   "cell_type": "code",
   "execution_count": 68,
   "metadata": {},
   "outputs": [],
   "source": [
    "# Now add the Dense layers\n",
    "h_dense_0 = Dense(units=20, activation=ip_activation, kernel_initializer='uniform')\n",
    "cnn.add(h_dense_0)\n",
    "# Let's add one more before proceeding to the output layer\n",
    "h_dense_1 = Dense(units=1024, activation=ip_activation, kernel_initializer='uniform',name='dense11')\n",
    "cnn.add(h_dense_1)"
   ]
  },
  {
   "cell_type": "code",
   "execution_count": 69,
   "metadata": {},
   "outputs": [],
   "source": [
    "n_classes = 36\n",
    "op_activation = 'softmax'\n",
    "output_layer = Dense(units=n_classes, activation=op_activation, kernel_initializer='uniform')\n",
    "cnn.add(output_layer)"
   ]
  },
  {
   "cell_type": "code",
   "execution_count": 70,
   "metadata": {},
   "outputs": [],
   "source": [
    "opt = tf.keras.optimizers.Adam(learning_rate=0.001)\n",
    "loss = 'categorical_crossentropy'\n",
    "metrics = ['accuracy']\n",
    "# Compile the classifier using the configuration we want\n",
    "cnn.compile(optimizer=opt, loss=loss, metrics=metrics)"
   ]
  },
  {
   "cell_type": "code",
   "execution_count": 71,
   "metadata": {},
   "outputs": [
    {
     "name": "stdout",
     "output_type": "stream",
     "text": [
      "Model: \"sequential_1\"\n",
      "_________________________________________________________________\n",
      " Layer (type)                Output Shape              Param #   \n",
      "=================================================================\n",
      " conv2d_4 (Conv2D)           (None, 30, 30, 4)         40        \n",
      "                                                                 \n",
      " conv2d_5 (Conv2D)           (None, 28, 28, 4)         148       \n",
      "                                                                 \n",
      " max_pooling2d_2 (MaxPooling  (None, 14, 14, 4)        0         \n",
      " 2D)                                                             \n",
      "                                                                 \n",
      " conv2d_6 (Conv2D)           (None, 12, 12, 4)         148       \n",
      "                                                                 \n",
      " conv2d_7 (Conv2D)           (None, 10, 10, 4)         148       \n",
      "                                                                 \n",
      " max_pooling2d_3 (MaxPooling  (None, 5, 5, 4)          0         \n",
      " 2D)                                                             \n",
      "                                                                 \n",
      " flatten_3 (Flatten)         (None, 100)               0         \n",
      "                                                                 \n",
      " dense_2 (Dense)             (None, 20)                2020      \n",
      "                                                                 \n",
      " dense11 (Dense)             (None, 1024)              21504     \n",
      "                                                                 \n",
      " dense_3 (Dense)             (None, 36)                36900     \n",
      "                                                                 \n",
      "=================================================================\n",
      "Total params: 60,908\n",
      "Trainable params: 60,908\n",
      "Non-trainable params: 0\n",
      "_________________________________________________________________\n",
      "None\n"
     ]
    }
   ],
   "source": [
    "print(cnn.summary())"
   ]
  },
  {
   "cell_type": "code",
   "execution_count": 74,
   "metadata": {},
   "outputs": [
    {
     "name": "stdout",
     "output_type": "stream",
     "text": [
      "Epoch 1/30\n",
      "429/429 [==============================] - 41s 96ms/step - loss: 0.1373 - accuracy: 0.9505 - val_loss: 0.4272 - val_accuracy: 0.8988\n",
      "Epoch 2/30\n",
      "429/429 [==============================] - 76s 178ms/step - loss: 0.1325 - accuracy: 0.9528 - val_loss: 0.4000 - val_accuracy: 0.9028\n",
      "Epoch 3/30\n",
      "429/429 [==============================] - 23s 53ms/step - loss: 0.1322 - accuracy: 0.9537 - val_loss: 0.3924 - val_accuracy: 0.8998\n",
      "Epoch 4/30\n",
      "429/429 [==============================] - 23s 54ms/step - loss: 0.1275 - accuracy: 0.9550 - val_loss: 0.4560 - val_accuracy: 0.8955\n",
      "Epoch 5/30\n",
      "429/429 [==============================] - 22s 52ms/step - loss: 0.1280 - accuracy: 0.9547 - val_loss: 0.3965 - val_accuracy: 0.9042\n",
      "Epoch 6/30\n",
      "429/429 [==============================] - 22s 50ms/step - loss: 0.1168 - accuracy: 0.9595 - val_loss: 0.4324 - val_accuracy: 0.9028\n",
      "Epoch 7/30\n",
      "429/429 [==============================] - 21s 50ms/step - loss: 0.1195 - accuracy: 0.9567 - val_loss: 0.4114 - val_accuracy: 0.9066\n",
      "Epoch 8/30\n",
      "429/429 [==============================] - 21s 49ms/step - loss: 0.1129 - accuracy: 0.9605 - val_loss: 0.4512 - val_accuracy: 0.9010\n",
      "Epoch 9/30\n",
      "429/429 [==============================] - 21s 50ms/step - loss: 0.1109 - accuracy: 0.9605 - val_loss: 0.4618 - val_accuracy: 0.8955\n",
      "Epoch 10/30\n",
      "429/429 [==============================] - 21s 49ms/step - loss: 0.1106 - accuracy: 0.9614 - val_loss: 0.4491 - val_accuracy: 0.8994\n",
      "Epoch 11/30\n",
      "429/429 [==============================] - 21s 49ms/step - loss: 0.1039 - accuracy: 0.9640 - val_loss: 0.4391 - val_accuracy: 0.9031\n",
      "Epoch 12/30\n",
      "429/429 [==============================] - 22s 50ms/step - loss: 0.1095 - accuracy: 0.9614 - val_loss: 0.4466 - val_accuracy: 0.8992\n",
      "Epoch 13/30\n",
      "429/429 [==============================] - 21s 49ms/step - loss: 0.1062 - accuracy: 0.9622 - val_loss: 0.4621 - val_accuracy: 0.9011\n",
      "Epoch 14/30\n",
      "429/429 [==============================] - 21s 49ms/step - loss: 0.1015 - accuracy: 0.9634 - val_loss: 0.4502 - val_accuracy: 0.9038\n",
      "Epoch 15/30\n",
      "429/429 [==============================] - 22s 51ms/step - loss: 0.1026 - accuracy: 0.9633 - val_loss: 0.4535 - val_accuracy: 0.9042\n",
      "Epoch 16/30\n",
      "429/429 [==============================] - 24s 57ms/step - loss: 0.0911 - accuracy: 0.9675 - val_loss: 0.4420 - val_accuracy: 0.9030\n",
      "Epoch 17/30\n",
      "429/429 [==============================] - 22s 51ms/step - loss: 0.1000 - accuracy: 0.9644 - val_loss: 0.4516 - val_accuracy: 0.9026\n",
      "Epoch 18/30\n",
      "429/429 [==============================] - 23s 53ms/step - loss: 0.0930 - accuracy: 0.9677 - val_loss: 0.4504 - val_accuracy: 0.9060\n",
      "Epoch 19/30\n",
      "429/429 [==============================] - 24s 56ms/step - loss: 0.0929 - accuracy: 0.9670 - val_loss: 0.5086 - val_accuracy: 0.8959\n",
      "Epoch 20/30\n",
      "429/429 [==============================] - 22s 52ms/step - loss: 0.1035 - accuracy: 0.9634 - val_loss: 0.4565 - val_accuracy: 0.9029\n",
      "Epoch 21/30\n",
      "429/429 [==============================] - 22s 52ms/step - loss: 0.0856 - accuracy: 0.9695 - val_loss: 0.5471 - val_accuracy: 0.8956\n",
      "Epoch 22/30\n",
      "429/429 [==============================] - 22s 52ms/step - loss: 0.0850 - accuracy: 0.9700 - val_loss: 0.5024 - val_accuracy: 0.9009\n",
      "Epoch 23/30\n",
      "429/429 [==============================] - 22s 52ms/step - loss: 0.0880 - accuracy: 0.9686 - val_loss: 0.5370 - val_accuracy: 0.8944\n",
      "Epoch 24/30\n",
      "429/429 [==============================] - 22s 52ms/step - loss: 0.0895 - accuracy: 0.9683 - val_loss: 0.4902 - val_accuracy: 0.8999\n",
      "Epoch 25/30\n",
      "429/429 [==============================] - 22s 52ms/step - loss: 0.0824 - accuracy: 0.9699 - val_loss: 0.5539 - val_accuracy: 0.8969\n",
      "Epoch 26/30\n",
      "429/429 [==============================] - 23s 53ms/step - loss: 0.0838 - accuracy: 0.9700 - val_loss: 0.4668 - val_accuracy: 0.9071\n",
      "Epoch 27/30\n",
      "429/429 [==============================] - 23s 53ms/step - loss: 0.0738 - accuracy: 0.9736 - val_loss: 0.5236 - val_accuracy: 0.9048\n",
      "Epoch 28/30\n",
      "429/429 [==============================] - 22s 52ms/step - loss: 0.0858 - accuracy: 0.9702 - val_loss: 0.4991 - val_accuracy: 0.9049\n",
      "Epoch 29/30\n",
      "429/429 [==============================] - 22s 52ms/step - loss: 0.0866 - accuracy: 0.9701 - val_loss: 0.4972 - val_accuracy: 0.9017\n",
      "Epoch 30/30\n",
      "429/429 [==============================] - 24s 57ms/step - loss: 0.0768 - accuracy: 0.9725 - val_loss: 0.4833 - val_accuracy: 0.9070\n"
     ]
    }
   ],
   "source": [
    "history = cnn.fit(x_train, T_train,\n",
    "                  batch_size=100, epochs=30,\n",
    "                  validation_data=(x_test, T_test))"
   ]
  },
  {
   "cell_type": "code",
   "execution_count": 75,
   "metadata": {},
   "outputs": [
    {
     "name": "stdout",
     "output_type": "stream",
     "text": [
      "Accuracy: 90.70%\n"
     ]
    }
   ],
   "source": [
    "# model is beeing save\n",
    "scores = cnn.evaluate(x_test, T_test, verbose=0)\n",
    "print(\"Accuracy: %.2f%%\" % (scores[1]*100))"
   ]
  },
  {
   "cell_type": "code",
   "execution_count": 76,
   "metadata": {},
   "outputs": [],
   "source": [
    "# import pickle\n",
    "# with open('final1_model.sav', 'wb') as f:\n",
    "# with open('model.pkl', 'wb') as f:\n",
    "#     pickle.dump(cnn, f)"
   ]
  },
  {
   "cell_type": "code",
   "execution_count": null,
   "metadata": {},
   "outputs": [],
   "source": []
  },
  {
   "cell_type": "code",
   "execution_count": 77,
   "metadata": {},
   "outputs": [
    {
     "name": "stdout",
     "output_type": "stream",
     "text": [
      "INFO:tensorflow:Assets written to: my_model\\assets\n"
     ]
    }
   ],
   "source": [
    "import pickle\n",
    "# model = pickle.load(open('final1_model.sav', 'rb'))\n",
    "# cnn.save('my_model1')\n",
    "cnn.save('my_model')\n",
    "\n",
    "# with open('model.pkl', 'rb') as f:\n",
    "#         model = pickle.load(f)\n",
    "        \n",
    "# self written code for reading the models\n",
    "\n",
    "# pickle_in = open(\"model.pkl\",\"rb\")\n",
    "# classifier=pickle.load(pickle_in)"
   ]
  },
  {
   "cell_type": "code",
   "execution_count": 78,
   "metadata": {},
   "outputs": [],
   "source": [
    "\n",
    "# pickle_in = open(\"model.pkl\",\"rb\")\n",
    "# classifier=pickle.load(pickle_in)\n",
    "new_model = tf.keras.models.load_model('my_model')\n"
   ]
  },
  {
   "cell_type": "code",
   "execution_count": 79,
   "metadata": {},
   "outputs": [
    {
     "name": "stdout",
     "output_type": "stream",
     "text": [
      "Model: \"sequential_1\"\n",
      "_________________________________________________________________\n",
      " Layer (type)                Output Shape              Param #   \n",
      "=================================================================\n",
      " conv2d_4 (Conv2D)           (None, 30, 30, 4)         40        \n",
      "                                                                 \n",
      " conv2d_5 (Conv2D)           (None, 28, 28, 4)         148       \n",
      "                                                                 \n",
      " max_pooling2d_2 (MaxPooling  (None, 14, 14, 4)        0         \n",
      " 2D)                                                             \n",
      "                                                                 \n",
      " conv2d_6 (Conv2D)           (None, 12, 12, 4)         148       \n",
      "                                                                 \n",
      " conv2d_7 (Conv2D)           (None, 10, 10, 4)         148       \n",
      "                                                                 \n",
      " max_pooling2d_3 (MaxPooling  (None, 5, 5, 4)          0         \n",
      " 2D)                                                             \n",
      "                                                                 \n",
      " flatten_3 (Flatten)         (None, 100)               0         \n",
      "                                                                 \n",
      " dense_2 (Dense)             (None, 20)                2020      \n",
      "                                                                 \n",
      " dense11 (Dense)             (None, 1024)              21504     \n",
      "                                                                 \n",
      " dense_3 (Dense)             (None, 36)                36900     \n",
      "                                                                 \n",
      "=================================================================\n",
      "Total params: 60,908\n",
      "Trainable params: 60,908\n",
      "Non-trainable params: 0\n",
      "_________________________________________________________________\n"
     ]
    }
   ],
   "source": [
    "new_model.summary()"
   ]
  },
  {
   "cell_type": "code",
   "execution_count": 80,
   "metadata": {},
   "outputs": [
    {
     "data": {
      "text/plain": [
       "((32, 32, 1),\n",
       " array([0., 0., 0., 0., 0., 1., 0., 0., 0., 0., 0., 0., 0., 0., 0., 0., 0.,\n",
       "        0., 0., 0., 0., 0., 0., 0., 0., 0., 0., 0., 0., 0., 0., 0., 0., 0.,\n",
       "        0., 0.], dtype=float32))"
      ]
     },
     "execution_count": 80,
     "metadata": {},
     "output_type": "execute_result"
    }
   ],
   "source": [
    "x_train[500].shape, T_train[500]"
   ]
  },
  {
   "cell_type": "code",
   "execution_count": 81,
   "metadata": {},
   "outputs": [
    {
     "data": {
      "text/plain": [
       "array([[0.0000000e+00, 1.5957469e-31, 3.2241785e-13, 1.3603431e-27,\n",
       "        5.8546791e-25, 1.0000000e+00, 2.2249144e-27, 0.0000000e+00,\n",
       "        5.3484956e-22, 0.0000000e+00, 9.7648925e-37, 3.4936094e-21,\n",
       "        2.7828892e-10, 8.1789020e-24, 2.7939705e-34, 1.7703607e-28,\n",
       "        2.5559392e-29, 2.5598288e-32, 3.1342459e-35, 1.6491910e-25,\n",
       "        5.0980779e-24, 4.0488626e-18, 3.4578074e-23, 1.3252741e-24,\n",
       "        1.6264543e-19, 0.0000000e+00, 7.2383956e-32, 3.3117355e-21,\n",
       "        4.6146360e-28, 3.0214284e-27, 6.5183024e-24, 0.0000000e+00,\n",
       "        9.0943124e-15, 2.7920551e-25, 9.2995541e-20, 7.6996732e-26]],\n",
       "      dtype=float32)"
      ]
     },
     "execution_count": 81,
     "metadata": {},
     "output_type": "execute_result"
    }
   ],
   "source": [
    "# new_model.predict(x_train[0:])\n",
    "output1 = new_model.predict(x_train[500].reshape(1, 32, 32, 1))\n",
    "output1"
   ]
  },
  {
   "cell_type": "code",
   "execution_count": 82,
   "metadata": {},
   "outputs": [
    {
     "name": "stdout",
     "output_type": "stream",
     "text": [
      "1.0 5\n",
      "[0, 0, 0, 0, 0, 1, 0, 0, 0, 0, 0, 0, 0, 0, 0, 0, 0, 0, 0, 0, 0, 0, 0, 0, 0, 0, 0, 0, 0, 0, 0, 0, 0, 0, 0, 0]\n"
     ]
    }
   ],
   "source": [
    "# print(output1.shape)\n",
    "# output2 = output1.reshape(36, 1)\n",
    "greatest = float('-inf')\n",
    "pos = 0\n",
    "for i in range(len(output1[0])):\n",
    "#     print(output1[0][i], end=\", \")\n",
    "    if greatest < output1[0][i]:\n",
    "        greatest = output1[0][i]\n",
    "        pos = i  \n",
    "print(greatest, pos)\n",
    "output1 = [0]*36\n",
    "output1[pos] = 1\n",
    "print(output1)"
   ]
  },
  {
   "cell_type": "code",
   "execution_count": 83,
   "metadata": {},
   "outputs": [
    {
     "data": {
      "text/plain": [
       "(36, array(['adna', 'ba', 'bha', 'cha', 'chha', 'chhya', 'da', 'daa', 'dha',\n",
       "        'dhaa', 'ga', 'gha', 'gya', 'ha', 'ja', 'jha', 'ka', 'kha', 'kna',\n",
       "        'la', 'ma', 'motosaw', 'na', 'pa', 'patalosaw', 'petchiryakha',\n",
       "        'pha', 'ra', 'taamatar', 'tabala', 'tha', 'thaa', 'tra', 'waw',\n",
       "        'yaw', 'yna'], dtype='<U12'))"
      ]
     },
     "execution_count": 83,
     "metadata": {},
     "output_type": "execute_result"
    }
   ],
   "source": [
    "len(np.unique(labels)), np.unique(labels)"
   ]
  },
  {
   "cell_type": "code",
   "execution_count": 84,
   "metadata": {},
   "outputs": [],
   "source": [
    "# plt.imshow(x_train[500])"
   ]
  },
  {
   "cell_type": "code",
   "execution_count": null,
   "metadata": {},
   "outputs": [],
   "source": []
  },
  {
   "cell_type": "code",
   "execution_count": 85,
   "metadata": {},
   "outputs": [
    {
     "data": {
      "text/plain": [
       "(1, 32, 32, 1)"
      ]
     },
     "execution_count": 85,
     "metadata": {},
     "output_type": "execute_result"
    }
   ],
   "source": [
    "input1 = x_train[0].reshape(1, 32, 32, 1)\n",
    "input1.shape"
   ]
  },
  {
   "cell_type": "code",
   "execution_count": 86,
   "metadata": {},
   "outputs": [
    {
     "data": {
      "text/plain": [
       "[0, 0, 0, 0, 0, 0, 0, 0, 0, 0]"
      ]
     },
     "execution_count": 86,
     "metadata": {},
     "output_type": "execute_result"
    }
   ],
   "source": [
    "[0]*10"
   ]
  },
  {
   "cell_type": "code",
   "execution_count": 87,
   "metadata": {},
   "outputs": [],
   "source": [
    "# # path = \"/testFiles/word2_0.png\"\n",
    "# # path = \"testFiles/1414.png\"\n",
    "# path = ('./testFiles/word1_0.png')\n",
    "\n",
    "\n",
    "\n",
    "# folders = os.listdir(path)\n",
    "# imageList=[]\n",
    "# imageMatrix = []\n",
    "# newIm = []\n",
    "# # labels=[]\n",
    "# # Get list of folders in current path\n",
    "# for folder in folders:\n",
    "#     newPath = path + folder  #Create new path by adding folder name\n",
    "#     folderName = os.path.split(os.path.abspath(newPath))[1]\n",
    "#     characterName = folderName.split(\"_\")[2]\n",
    "#     imageList=[f for f in os.listdir(newPath) if os.path.splitext(f)[-1] == '.png'] #Check if PNG files only then add\n",
    "#     for image in imageList:   #Traverse the list of files and add each file name to the imageFile\n",
    "#         im = Image.open(newPath+\"//\"+image)\n",
    "#         labels.append(characterName)\n",
    "#         imageArray = np.asarray(im.getdata())\n",
    "#         flattenedImageArray = imageArray.flatten()\n",
    "#         imageMatrix.append(flattenedImageArray)\n",
    "#         break\n",
    "#     break\n",
    "        \n",
    "# print(\"Size of the image matrix = \",np.size(imageMatrix))"
   ]
  },
  {
   "cell_type": "code",
   "execution_count": 88,
   "metadata": {},
   "outputs": [],
   "source": [
    "# im = Image.open( \"testFiles/random4.png\")\n",
    "# # print(im.shape)\n",
    "# imageArray = np.asarray(im.getdata())\n",
    "# flattenedImageArray = imageArray.flatten()\n",
    "# imageMatrix.append(flattenedImageArray)\n",
    "# word1 = np.array(imageMatrix)\n",
    "# print(word1.shape)\n",
    "# word1 = word1.reshape((1, -1))\n",
    "# word1.shape"
   ]
  },
  {
   "cell_type": "code",
   "execution_count": 89,
   "metadata": {},
   "outputs": [],
   "source": [
    "import os"
   ]
  },
  {
   "cell_type": "code",
   "execution_count": 90,
   "metadata": {},
   "outputs": [
    {
     "name": "stdout",
     "output_type": "stream",
     "text": [
      "(32, 32)\n",
      "0.9999801 32\n",
      "tra\n"
     ]
    },
    {
     "data": {
      "image/png": "[encoded data removed]",
      "text/plain": [
       "<Figure size 432x288 with 1 Axes>"
      ]
     },
     "metadata": {
      "needs_background": "light"
     },
     "output_type": "display_data"
    }
   ],
   "source": [
    "import cv2 as cv\n",
    "\n",
    "img = cv.imread('testFiles/random2.png', cv.IMREAD_GRAYSCALE )\n",
    "print(img.shape)\n",
    "img1 =img.reshape((1, 32, 32, 1))\n",
    "plt.imshow(img)\n",
    "output = new_model.predict(img1)\n",
    "\n",
    "def get_output(output1):\n",
    "    greatest = float('-inf')\n",
    "    pos = 0\n",
    "    for i in range(len(output1[0])):\n",
    "    #     print(output1[0][i], end=\", \")\n",
    "        if greatest < output1[0][i]:\n",
    "            greatest = output1[0][i]\n",
    "            pos = i  \n",
    "    print(greatest, pos)\n",
    "    output1 = [0]*36\n",
    "    output1[pos] = 1\n",
    "    print(np.unique(labels)[pos])\n",
    "    \n",
    "get_output(output)\n"
   ]
  },
  {
   "cell_type": "code",
   "execution_count": null,
   "metadata": {},
   "outputs": [],
   "source": []
  },
  {
   "cell_type": "code",
   "execution_count": null,
   "metadata": {},
   "outputs": [],
   "source": []
  },
  {
   "cell_type": "code",
   "execution_count": 91,
   "metadata": {},
   "outputs": [],
   "source": [
    "# X[0].reshape(1, 32, 32, 1)\n",
    "\n",
    "\n",
    "# img = cv.imread('wordr1.PNG', cv.IMREAD_GRAYSCALE )\n",
    "# # print(img.shape)\n",
    "# # img1 =img.reshape((1, 32, 32, 1))\n",
    "# # plt.imshow(img)\n",
    "# # output = new_model.predict(img1)\n",
    "\n",
    "# img2 = cv.resize(img, (32, 32,0))\n",
    "# print(img2.shape)\n",
    "# plt.imshow(img2)\n",
    "\n",
    "# img3 =img2.reshape((1, 32, 32, 1))\n",
    "# img3.shape\n",
    "# # plt.imshow(img3)\n",
    "# output = new_model.predict(img3)   \n",
    "# print(output)\n",
    "# def get_output(output1):\n",
    "#     greatest = float('-inf')\n",
    "#     pos = 0\n",
    "#     for i in range(len(output1[0])):\n",
    "#     #     print(output1[0][i], end=\", \")\n",
    "#         if greatest < output1[0][i]:\n",
    "#             greatest = output1[0][i]\n",
    "#             pos = i  \n",
    "#     print(greatest, pos)\n",
    "#     output1 = [0]*36\n",
    "#     output1[pos] = 1\n",
    "#     print(np.unique(labels)[pos])\n",
    "\n",
    "# get_output(output)"
   ]
  },
  {
   "cell_type": "code",
   "execution_count": 92,
   "metadata": {},
   "outputs": [
    {
     "data": {
      "text/plain": [
       "array(['adna', 'ba', 'bha', 'cha', 'chha', 'chhya', 'da', 'daa', 'dha',\n",
       "       'dhaa', 'ga', 'gha', 'gya', 'ha', 'ja', 'jha', 'ka', 'kha', 'kna',\n",
       "       'la', 'ma', 'motosaw', 'na', 'pa', 'patalosaw', 'petchiryakha',\n",
       "       'pha', 'ra', 'taamatar', 'tabala', 'tha', 'thaa', 'tra', 'waw',\n",
       "       'yaw', 'yna'], dtype='<U12')"
      ]
     },
     "execution_count": 92,
     "metadata": {},
     "output_type": "execute_result"
    }
   ],
   "source": [
    "np.unique(labels)"
   ]
  },
  {
   "cell_type": "code",
   "execution_count": 93,
   "metadata": {},
   "outputs": [
    {
     "data": {
      "text/plain": [
       "(42840, 32, 32, 1)"
      ]
     },
     "execution_count": 93,
     "metadata": {},
     "output_type": "execute_result"
    }
   ],
   "source": [
    "x_train.shape"
   ]
  },
  {
   "cell_type": "code",
   "execution_count": 94,
   "metadata": {},
   "outputs": [
    {
     "name": "stdout",
     "output_type": "stream",
     "text": [
      "(32, 32)\n",
      "0.9997271 18\n",
      "kna\n"
     ]
    },
    {
     "data": {
      "image/png": "[encoded data removed]",
      "text/plain": [
       "<Figure size 432x288 with 1 Axes>"
      ]
     },
     "metadata": {
      "needs_background": "light"
     },
     "output_type": "display_data"
    }
   ],
   "source": [
    "import cv2 as cv\n",
    "\n",
    "img = cv.imread('testFiles/random3.png', cv.IMREAD_GRAYSCALE )\n",
    "print(img.shape)\n",
    "img1 =img.reshape((1, 32, 32, 1))\n",
    "plt.imshow(img)\n",
    "output = new_model.predict(img1)\n",
    "\n",
    "def get_output(output1):\n",
    "    greatest = float('-inf')\n",
    "    pos = 0\n",
    "    for i in range(len(output1[0])):\n",
    "    #     print(output1[0][i], end=\", \")\n",
    "        if greatest < output1[0][i]:\n",
    "            greatest = output1[0][i]\n",
    "            pos = i  \n",
    "    print(greatest, pos)\n",
    "    output1 = [0]*36\n",
    "    output1[pos] = 1\n",
    "    print(np.unique(labels)[pos])\n",
    "    \n",
    "get_output(output)"
   ]
  },
  {
   "cell_type": "code",
   "execution_count": 95,
   "metadata": {},
   "outputs": [
    {
     "name": "stdout",
     "output_type": "stream",
     "text": [
      "(32, 32)\n",
      "0.99999034 16\n",
      "ka\n"
     ]
    },
    {
     "data": {
      "image/png": "[encoded data removed]",
      "text/plain": [
       "<Figure size 432x288 with 1 Axes>"
      ]
     },
     "metadata": {
      "needs_background": "light"
     },
     "output_type": "display_data"
    }
   ],
   "source": [
    "import cv2 as cv\n",
    "\n",
    "img = cv.imread('testFiles/random4.png', cv.IMREAD_GRAYSCALE )\n",
    "print(img.shape)\n",
    "img1 =img.reshape((1, 32, 32, 1))\n",
    "plt.imshow(img)\n",
    "output = new_model.predict(img1)\n",
    "\n",
    "def get_output(output1):\n",
    "    greatest = float('-inf')\n",
    "    pos = 0\n",
    "    for i in range(len(output1[0])):\n",
    "    #     print(output1[0][i], end=\", \")\n",
    "        if greatest < output1[0][i]:\n",
    "            greatest = output1[0][i]\n",
    "            pos = i  \n",
    "    print(greatest, pos)\n",
    "    output1 = [0]*36\n",
    "    output1[pos] = 1\n",
    "    print(np.unique(labels)[pos])\n",
    "    \n",
    "get_output(output)\n"
   ]
  },
  {
   "cell_type": "code",
   "execution_count": 97,
   "metadata": {},
   "outputs": [],
   "source": [
    "# import cv2 as cv\n",
    "\n",
    "# img = cv.imread('testFiles/word1_0.png', cv.IMREAD_GRAYSCALE )\n",
    "# print(img.shape)\n",
    "# # img1 =img.reshape((1, 32, 32, 1))\n",
    "# # plt.imshow(img)\n",
    "# # output = new_model.predict(img1)\n",
    "\n",
    "# # def get_output(output1):\n",
    "# #     greatest = float('-inf')\n",
    "# #     pos = 0\n",
    "# #     for i in range(len(output1[0])):\n",
    "# #     #     print(output1[0][i], end=\", \")\n",
    "# #         if greatest < output1[0][i]:\n",
    "# #             greatest = output1[0][i]\n",
    "# #             pos = i  \n",
    "# #     print(greatest, pos)\n",
    "# #     output1 = [0]*36\n",
    "# #     output1[pos] = 1\n",
    "# #     print(np.unique(labels)[pos])\n",
    "    \n",
    "# # get_output(output)\n"
   ]
  },
  {
   "cell_type": "raw",
   "metadata": {},
   "source": [
    "# resizing the image of 400,400 to 32 ,32"
   ]
  },
  {
   "cell_type": "code",
   "execution_count": null,
   "metadata": {},
   "outputs": [],
   "source": [
    "# from PIL import Image\n",
    "# im = Image.open(\"testFiles/word1_0.png\")\n",
    "# orig_size = im.size\n",
    "# print(orig_size)\n",
    "# display(im)"
   ]
  },
  {
   "cell_type": "code",
   "execution_count": null,
   "metadata": {},
   "outputs": [],
   "source": [
    "# im.thumbnail([32, 32])\n",
    "# display(im)"
   ]
  },
  {
   "cell_type": "code",
   "execution_count": null,
   "metadata": {},
   "outputs": [],
   "source": []
  },
  {
   "cell_type": "code",
   "execution_count": null,
   "metadata": {},
   "outputs": [],
   "source": [
    "# im.save(\"Dpi_test.png\", dpi=(32, 32))"
   ]
  },
  {
   "cell_type": "code",
   "execution_count": null,
   "metadata": {},
   "outputs": [],
   "source": [
    "# import cv2 as cv\n",
    "\n",
    "# img = cv.imread('Dpi_test.png', cv.IMREAD_GRAYSCALE )\n",
    "# print(img.shape)\n",
    "# # img1 =img.reshape((1, 32, 32, 1))\n",
    "# plt.imshow(img)\n",
    "# output = new_model.predict(img1)\n",
    "\n",
    "# def get_output(output1):\n",
    "#     greatest = float('-inf')\n",
    "#     pos = 0\n",
    "#     for i in range(len(output1[0])):\n",
    "#     #     print(output1[0][i], end=\", \")\n",
    "#         if greatest < output1[0][i]:\n",
    "#             greatest = output1[0][i]\n",
    "#             pos = i  \n",
    "#     print(greatest, pos)\n",
    "#     output1 = [0]*36\n",
    "#     output1[pos] = 1\n",
    "#     print(np.unique(labels)[pos])\n",
    "    \n",
    "# get_output(output)\n"
   ]
  },
  {
   "cell_type": "code",
   "execution_count": 98,
   "metadata": {},
   "outputs": [
    {
     "name": "stdout",
     "output_type": "stream",
     "text": [
      "(32, 32)\n",
      "0.99156946 20\n",
      "ma\n"
     ]
    },
    {
     "data": {
      "image/png": "[encoded data removed]",
      "text/plain": [
       "<Figure size 432x288 with 1 Axes>"
      ]
     },
     "metadata": {
      "needs_background": "light"
     },
     "output_type": "display_data"
    }
   ],
   "source": [
    "import cv2 as cv\n",
    "\n",
    "img = cv.imread('testFiles/check.png', cv.IMREAD_GRAYSCALE )\n",
    "print(img.shape)\n",
    "img1 =img.reshape((1, 32, 32, 1))\n",
    "plt.imshow(img)\n",
    "output = new_model.predict(img1)\n",
    "\n",
    "def get_output(output1):\n",
    "    greatest = float('-inf')\n",
    "    pos = 0\n",
    "    for i in range(len(output1[0])):\n",
    "    #     print(output1[0][i], end=\", \")\n",
    "        if greatest < output1[0][i]:\n",
    "            greatest = output1[0][i]\n",
    "            pos = i  \n",
    "    print(greatest, pos)\n",
    "    output1 = [0]*36\n",
    "    output1[pos] = 1\n",
    "    print(np.unique(labels)[pos])\n",
    "    \n",
    "get_output(output)\n"
   ]
  },
  {
   "cell_type": "code",
   "execution_count": null,
   "metadata": {},
   "outputs": [],
   "source": [
    "import cv2 as cv\n",
    "\n",
    "img = cv.imread('testFiles/random5.png', cv.IMREAD_GRAYSCALE )\n",
    "print(img.shape)\n",
    "img1 =img.reshape((1, 32, 32, 1))\n",
    "plt.imshow(img)\n",
    "output = new_model.predict(img1)\n",
    "\n",
    "def get_output(output1):\n",
    "    greatest = float('-inf')\n",
    "    pos = 0\n",
    "    for i in range(len(output1[0])):\n",
    "    #     print(output1[0][i], end=\", \")\n",
    "        if greatest < output1[0][i]:\n",
    "            greatest = output1[0][i]\n",
    "            pos = i  \n",
    "    print(greatest, pos)\n",
    "    output1 = [0]*36\n",
    "    output1[pos] = 1\n",
    "    print(np.unique(labels)[pos])\n",
    "    \n",
    "get_output(output)\n"
   ]
  },
  {
   "cell_type": "code",
   "execution_count": null,
   "metadata": {},
   "outputs": [],
   "source": [
    "import cv2 as cv\n",
    "\n",
    "img = cv.imread('testFiles/random6.png', cv.IMREAD_GRAYSCALE )\n",
    "print(img.shape)\n",
    "img1 =img.reshape((1, 32, 32, 1))\n",
    "plt.imshow(img)\n",
    "output = new_model.predict(img1)\n",
    "\n",
    "def get_output(output1):\n",
    "    greatest = float('-inf')\n",
    "    pos = 0\n",
    "    for i in range(len(output1[0])):\n",
    "    #     print(output1[0][i], end=\", \")\n",
    "        if greatest < output1[0][i]:\n",
    "            greatest = output1[0][i]\n",
    "            pos = i  \n",
    "    print(greatest, pos)\n",
    "    output1 = [0]*36\n",
    "    output1[pos] = 1\n",
    "    print(np.unique(labels)[pos])\n",
    "    \n",
    "get_output(output)\n"
   ]
  },
  {
   "cell_type": "code",
   "execution_count": null,
   "metadata": {},
   "outputs": [],
   "source": [
    "import cv2 as cv\n",
    "\n",
    "img = cv.imread('testFiles/random1.png', cv.IMREAD_GRAYSCALE )\n",
    "print(img.shape)\n",
    "img1 =img.reshape((1, 32, 32, 1))\n",
    "plt.imshow(img)\n",
    "output = new_model.predict(img1)\n",
    "\n",
    "def get_output(output1):\n",
    "    greatest = float('-inf')\n",
    "    pos = 0\n",
    "    for i in range(len(output1[0])):\n",
    "    #     print(output1[0][i], end=\", \")\n",
    "        if greatest < output1[0][i]:\n",
    "            greatest = output1[0][i]\n",
    "            pos = i  \n",
    "    print(greatest, pos)\n",
    "    output1 = [0]*36\n",
    "    output1[pos] = 1\n",
    "    print(np.unique(labels)[pos])\n",
    "    \n",
    "get_output(output)"
   ]
  },
  {
   "cell_type": "code",
   "execution_count": null,
   "metadata": {},
   "outputs": [],
   "source": [
    "import cv2 as cv\n",
    "\n",
    "img = cv.imread('testFiles/13102.png', cv.IMREAD_GRAYSCALE )\n",
    "print(img.shape)\n",
    "img1 =img.reshape((1, 32, 32, 1))\n",
    "plt.imshow(img)\n",
    "output = new_model.predict(img1)\n",
    "\n",
    "def get_output(output1):\n",
    "    greatest = float('-inf')\n",
    "    pos = 0\n",
    "    for i in range(len(output1[0])):\n",
    "    #     print(output1[0][i], end=\", \")\n",
    "        if greatest < output1[0][i]:\n",
    "            greatest = output1[0][i]\n",
    "            pos = i  \n",
    "    print(greatest, pos)\n",
    "    output1 = [0]*36\n",
    "    output1[pos] = 1\n",
    "    print(np.unique(labels)[pos])\n",
    "    \n",
    "get_output(output)"
   ]
  },
  {
   "cell_type": "code",
   "execution_count": null,
   "metadata": {},
   "outputs": [],
   "source": [
    "import cv2 as cv\n",
    "\n",
    "img = cv.imread('testFiles/88606.png', cv.IMREAD_GRAYSCALE )\n",
    "print(img.shape)\n",
    "img1 =img.reshape((1, 32, 32, 1))\n",
    "plt.imshow(img)\n",
    "output = new_model.predict(img1)\n",
    "\n",
    "def get_output(output1):\n",
    "    greatest = float('-inf')\n",
    "    pos = 0\n",
    "    for i in range(len(output1[0])):\n",
    "    #     print(output1[0][i], end=\", \")\n",
    "        if greatest < output1[0][i]:\n",
    "            greatest = output1[0][i]\n",
    "            pos = i  \n",
    "    print(greatest, pos)\n",
    "    output1 = [0]*36\n",
    "    output1[pos] = 1\n",
    "    print(np.unique(labels)[pos])\n",
    "    \n",
    "get_output(output)"
   ]
  },
  {
   "cell_type": "code",
   "execution_count": null,
   "metadata": {},
   "outputs": [],
   "source": [
    "import cv2 as cv\n",
    "\n",
    "img = cv.imread('testFiles/random7.png', cv.IMREAD_GRAYSCALE )\n",
    "print(img.shape)\n",
    "img1 =img.reshape((1, 32, 32, 1))\n",
    "plt.imshow(img)\n",
    "output = new_model.predict(img1)\n",
    "\n",
    "def get_output(output1):\n",
    "    greatest = float('-inf')\n",
    "    pos = 0\n",
    "    for i in range(len(output1[0])):\n",
    "    #     print(output1[0][i], end=\", \")\n",
    "        if greatest < output1[0][i]:\n",
    "            greatest = output1[0][i]\n",
    "            pos = i  \n",
    "    print(greatest, pos)\n",
    "    output1 = [0]*36\n",
    "    output1[pos] = 1\n",
    "    print(np.unique(labels)[pos])\n",
    "    \n",
    "get_output(output)"
   ]
  },
  {
   "cell_type": "code",
   "execution_count": 103,
   "metadata": {},
   "outputs": [
    {
     "name": "stdout",
     "output_type": "stream",
     "text": [
      "(32, 32)\n",
      "0.99951315 12\n",
      "gya\n"
     ]
    },
    {
     "data": {
      "image/png": "[encoded data removed]",
      "text/plain": [
       "<Figure size 432x288 with 1 Axes>"
      ]
     },
     "metadata": {
      "needs_background": "light"
     },
     "output_type": "display_data"
    },
    {
     "name": "stdout",
     "output_type": "stream",
     "text": [
      "[[6.2793300e-21 7.3565827e-11 1.7343479e-12 7.4253178e-15 8.5093387e-15\n",
      "  4.8419822e-04 2.7229869e-15 2.2671959e-15 5.1142386e-14 7.8771217e-22\n",
      "  2.9339133e-15 1.5902285e-12 9.9951315e-01 4.2582680e-13 1.4441562e-10\n",
      "  1.4770224e-21 4.0312922e-21 1.9059888e-13 2.9487046e-13 3.9025158e-11\n",
      "  1.5789688e-10 3.2362231e-12 3.4545322e-10 3.6162943e-14 2.6416615e-06\n",
      "  1.1615793e-17 2.1307041e-14 5.8791372e-10 4.1999384e-18 8.2730291e-14\n",
      "  3.6692024e-14 9.3640717e-27 1.8040904e-08 1.8018144e-11 3.1721747e-13\n",
      "  1.3196966e-12]]\n",
      "0.99951315 12\n",
      "gya\n"
     ]
    }
   ],
   "source": [
    "import cv2 as cv\n",
    "\n",
    "img = cv.imread('testFiles/random9.png', cv.IMREAD_GRAYSCALE )\n",
    "print(img.shape)\n",
    "img1 =img.reshape((1, 32, 32, 1))\n",
    "plt.imshow(img)\n",
    "output = new_model.predict(img1)\n",
    "\n",
    "def get_output(output1):\n",
    "    greatest = float('-inf')\n",
    "    pos = 0\n",
    "    for i in range(len(output1[0])):\n",
    "    #     print(output1[0][i], end=\", \")\n",
    "        if greatest < output1[0][i]:\n",
    "            greatest = output1[0][i]\n",
    "            pos = i  \n",
    "    print(greatest, pos)\n",
    "    output1 = [0]*36\n",
    "    output1[pos] = 1\n",
    "    print(np.unique(labels)[pos])\n",
    "    \n",
    "get_output(output)"
   ]
  },
  {
   "cell_type": "code",
   "execution_count": null,
   "metadata": {},
   "outputs": [],
   "source": [
    "# import cv2 as cv\n",
    "\n",
    "# img = cv.imread('testFiles/random10.png', cv.IMREAD_GRAYSCALE )\n",
    "# print(img.shape)\n",
    "# img1 =img.reshape((1, 32, 32, 1))\n",
    "# print(img1)\n",
    "# plt.imshow(img)\n",
    "# output = new_model.predict(img1)\n",
    "\n",
    "# def get_output(output1):\n",
    "#     greatest = float('-inf')\n",
    "#     pos = 0\n",
    "#     for i in range(len(output1[0])):\n",
    "#     #     print(output1[0][i], end=\", \")\n",
    "#         if greatest < output1[0][i]:\n",
    "#             greatest = output1[0][i]\n",
    "#             pos = i  \n",
    "#     print(greatest, pos)\n",
    "#     output1 = [0]*36\n",
    "#     output1[pos] = 1\n",
    "#     print(np.unique(labels)[pos])\n",
    "    \n",
    "# get_output(output)"
   ]
  },
  {
   "cell_type": "code",
   "execution_count": 104,
   "metadata": {},
   "outputs": [
    {
     "name": "stdout",
     "output_type": "stream",
     "text": [
      "(32, 32)\n",
      "0.99998844 21\n",
      "motosaw\n"
     ]
    },
    {
     "data": {
      "image/png": "[encoded data removed]",
      "text/plain": [
       "<Figure size 432x288 with 1 Axes>"
      ]
     },
     "metadata": {
      "needs_background": "light"
     },
     "output_type": "display_data"
    },
    {
     "name": "stdout",
     "output_type": "stream",
     "text": [
      "[[4.2427287e-13 2.3356078e-19 1.1541842e-05 3.2652236e-27 1.3305122e-23\n",
      "  3.0062186e-19 1.4659883e-31 1.2380105e-28 5.2565065e-13 2.7064345e-30\n",
      "  3.4095902e-09 1.9963690e-11 3.5668455e-17 4.6840356e-20 4.9137146e-21\n",
      "  1.3403087e-15 3.4679475e-18 6.8726451e-19 8.6456259e-10 2.1684609e-29\n",
      "  3.9850807e-21 9.9998844e-01 5.3138610e-22 5.4435898e-15 2.8066747e-13\n",
      "  2.1363387e-09 3.7341009e-18 4.4495330e-27 1.1773988e-29 1.0090512e-22\n",
      "  5.8100223e-11 1.1325266e-29 2.8912044e-09 4.6075038e-24 1.3159402e-11\n",
      "  8.0567958e-10]]\n",
      "0.99998844 21\n",
      "motosaw\n"
     ]
    }
   ],
   "source": [
    "import cv2 as cv\n",
    "\n",
    "img = cv.imread('testFiles/random10.png', cv.IMREAD_GRAYSCALE )\n",
    "print(img.shape)\n",
    "img1 =img.reshape((1, 32, 32, 1))\n",
    "plt.imshow(img)\n",
    "output = new_model.predict(img1)\n",
    "\n",
    "def get_output(output1):\n",
    "    greatest = float('-inf')\n",
    "    pos = 0\n",
    "    for i in range(len(output1[0])):\n",
    "    #     print(output1[0][i], end=\", \")\n",
    "        if greatest < output1[0][i]:\n",
    "            greatest = output1[0][i]\n",
    "            pos = i  \n",
    "    print(greatest, pos)\n",
    "    output1 = [0]*36\n",
    "    output1[pos] = 1\n",
    "    print(np.unique(labels)[pos])\n",
    "    \n",
    "get_output(output)"
   ]
  },
  {
   "cell_type": "code",
   "execution_count": null,
   "metadata": {},
   "outputs": [],
   "source": [
    "# import cv2 as cv\n",
    "\n",
    "# img = cv.imread('testFiles/just check.png', cv.IMREAD_GRAYSCALE )\n",
    "# print(img.shape)\n",
    "# # img1 =img.reshape((1, 32, 32, 1))\n",
    "# # img1 = img.reshape(-1, 3, 32, 32)\n",
    "# img = img.reshape(img.shape[0], 3, 32, 32)\n",
    "\n",
    "# plt.imshow(img)\n",
    "# output = new_model.predict(img1)\n",
    "\n",
    "# def get_output(output1):\n",
    "#     greatest = float('-inf')\n",
    "#     pos = 0\n",
    "#     for i in range(len(output1[0])):\n",
    "#     #     print(output1[0][i], end=\", \")\n",
    "#         if greatest < output1[0][i]:\n",
    "#             greatest = output1[0][i]\n",
    "#             pos = i  \n",
    "#     print(greatest, pos)\n",
    "#     output1 = [0]*36\n",
    "#     output1[pos] = 1\n",
    "#     print(np.unique(labels)[pos])\n",
    "    \n",
    "# get_output(output)"
   ]
  },
  {
   "cell_type": "code",
   "execution_count": null,
   "metadata": {},
   "outputs": [],
   "source": []
  },
  {
   "cell_type": "code",
   "execution_count": null,
   "metadata": {},
   "outputs": [],
   "source": [
    "\n",
    "# from PIL import Image\n",
    "# im = Image.open(\"testFiles/word1_1.png\")\n",
    "# orig_size = im.size\n",
    "# print(orig_size)\n",
    "# display(im)\n"
   ]
  },
  {
   "cell_type": "code",
   "execution_count": null,
   "metadata": {},
   "outputs": [],
   "source": [
    "# # find the shape and size of image\n",
    "# import cv2\n",
    "\n",
    "# im = cv2.imread('testFiles/word1_1.png')\n",
    "\n",
    "# print(type(im))\n",
    "# # <class 'numpy.ndarray'>\n",
    "\n",
    "# print(im.shape)\n",
    "# print(type(im.shape))"
   ]
  },
  {
   "cell_type": "code",
   "execution_count": null,
   "metadata": {},
   "outputs": [],
   "source": [
    "# im.thumbnail([32, 32])\n",
    "# display(im)"
   ]
  },
  {
   "cell_type": "code",
   "execution_count": null,
   "metadata": {},
   "outputs": [],
   "source": [
    "# im = im.transform(orig_size, Image.EXTENT, (0,0,32,32))\n",
    "# display(im)"
   ]
  },
  {
   "cell_type": "code",
   "execution_count": null,
   "metadata": {},
   "outputs": [],
   "source": [
    "# im.save(\"ma.png\", dpi=(32, 32))\n"
   ]
  },
  {
   "cell_type": "code",
   "execution_count": null,
   "metadata": {},
   "outputs": [],
   "source": [
    "# # find the shape and size of image\n",
    "# import cv2\n",
    "\n",
    "# im = cv2.imread('ma.png')\n",
    "\n",
    "# print(type(im))\n",
    "# # <class 'numpy.ndarray'>\n",
    "\n",
    "# print(im.shape)\n",
    "# print(type(im.shape))"
   ]
  },
  {
   "cell_type": "code",
   "execution_count": null,
   "metadata": {},
   "outputs": [],
   "source": [
    "# import cv2 as cv\n",
    "\n",
    "# img = cv.imread('ma.png', cv.IMREAD_GRAYSCALE )\n",
    "# print(img.shape)\n",
    "# # img1 =img.reshape((1, 32, 32, 1))\n",
    "# plt.imshow(img)\n",
    "# output = new_model.predict(img1)\n",
    "\n",
    "# def get_output(output1):\n",
    "#     greatest = float('-inf')\n",
    "#     pos = 0\n",
    "#     for i in range(len(output1[0])):\n",
    "#     #     print(output1[0][i], end=\", \")\n",
    "#         if greatest < output1[0][i]:\n",
    "#             greatest = output1[0][i]\n",
    "#             pos = i  \n",
    "#     print(greatest, pos)\n",
    "#     output1 = [0]*36\n",
    "#     output1[pos] = 1\n",
    "#     print(np.unique(labels)[pos])\n",
    "    \n",
    "# get_output(output)\n"
   ]
  },
  {
   "cell_type": "code",
   "execution_count": 99,
   "metadata": {},
   "outputs": [],
   "source": [
    "import anvil.server"
   ]
  },
  {
   "cell_type": "code",
   "execution_count": 100,
   "metadata": {},
   "outputs": [
    {
     "name": "stdout",
     "output_type": "stream",
     "text": [
      "Connecting to wss://anvil.works/uplink\n",
      "Anvil websocket open\n",
      "Connected to \"Default environment\" as SERVER\n"
     ]
    }
   ],
   "source": [
    "anvil.server.connect(\"SRO2NKWY5QYWR6OPCLQF2F5O-2LOYQ4OHB452X3G2\")"
   ]
  },
  {
   "cell_type": "code",
   "execution_count": null,
   "metadata": {},
   "outputs": [],
   "source": []
  },
  {
   "cell_type": "code",
   "execution_count": 101,
   "metadata": {},
   "outputs": [],
   "source": [
    "import anvil.media \n",
    "from keras.preprocessing.image import load_img, img_to_array\n",
    "import PIL as image\n",
    "import numpy as np\n",
    "import cv2 as cv\n",
    "\n",
    "@anvil.server.callable\n",
    "def classify_image(file):\n",
    "    with anvil.media.TempFile(file) as filename:\n",
    "        \n",
    "        img =load_img(filename)\n",
    "\n",
    "    plt.imshow(img)\n",
    "    output1 = new_model.predict(img1)\n",
    "    print(output1)\n",
    "    greatest = float('-inf')\n",
    "    pos = 0\n",
    "    for i in range(len(output1[0])):\n",
    "    #     print(output1[0][i], end=\", \")\n",
    "        if greatest < output1[0][i]:\n",
    "            greatest = output1[0][i]\n",
    "            pos = i  \n",
    "    print(greatest, pos)\n",
    "    output1 = [0]*36\n",
    "    output1[pos] = 1\n",
    "    print(np.unique(labels)[pos])\n",
    "    return np.unique(labels)[pos]\n",
    "\n",
    "\n",
    "    "
   ]
  },
  {
   "cell_type": "code",
   "execution_count": null,
   "metadata": {},
   "outputs": [],
   "source": []
  },
  {
   "cell_type": "code",
   "execution_count": null,
   "metadata": {},
   "outputs": [],
   "source": []
  },
  {
   "cell_type": "code",
   "execution_count": null,
   "metadata": {},
   "outputs": [],
   "source": []
  },
  {
   "cell_type": "code",
   "execution_count": null,
   "metadata": {},
   "outputs": [],
   "source": []
  },
  {
   "cell_type": "code",
   "execution_count": null,
   "metadata": {},
   "outputs": [],
   "source": []
  },
  {
   "cell_type": "code",
   "execution_count": null,
   "metadata": {},
   "outputs": [],
   "source": []
  },
  {
   "cell_type": "code",
   "execution_count": null,
   "metadata": {},
   "outputs": [],
   "source": []
  },
  {
   "cell_type": "code",
   "execution_count": null,
   "metadata": {},
   "outputs": [],
   "source": []
  },
  {
   "cell_type": "code",
   "execution_count": null,
   "metadata": {},
   "outputs": [],
   "source": []
  },
  {
   "cell_type": "code",
   "execution_count": null,
   "metadata": {},
   "outputs": [],
   "source": []
  },
  {
   "cell_type": "code",
   "execution_count": null,
   "metadata": {},
   "outputs": [],
   "source": []
  },
  {
   "cell_type": "code",
   "execution_count": null,
   "metadata": {},
   "outputs": [],
   "source": []
  },
  {
   "cell_type": "code",
   "execution_count": null,
   "metadata": {},
   "outputs": [],
   "source": []
  },
  {
   "cell_type": "code",
   "execution_count": null,
   "metadata": {},
   "outputs": [],
   "source": []
  },
  {
   "cell_type": "code",
   "execution_count": null,
   "metadata": {},
   "outputs": [],
   "source": []
  }
 ],
 "metadata": {
  "kernelspec": {
   "display_name": "Python 3",
   "language": "python",
   "name": "python3"
  },
  "language_info": {
   "codemirror_mode": {
    "name": "ipython",
    "version": 3
   },
   "file_extension": ".py",
   "mimetype": "text/x-python",
   "name": "python",
   "nbconvert_exporter": "python",
   "pygments_lexer": "ipython3",
   "version": "3.7.4"
  }
 },
 "nbformat": 4,
 "nbformat_minor": 4
}
