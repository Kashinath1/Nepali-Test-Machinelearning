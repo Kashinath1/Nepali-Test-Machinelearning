{
 "cells": [
  {
   "cell_type": "code",
   "execution_count": 1,
   "metadata": {},
   "outputs": [],
   "source": [
    "import tensorflow as tf\n",
    "import matplotlib.pyplot as plt\n",
    "import matplotlib.image as mpimage\n",
    "from PIL import Image\n",
    "import numpy as np\n",
    "import os\n",
    "import random\n",
    "from sklearn import ensemble,preprocessing\n",
    "import keras.utils.np_utils"
   ]
  },
  {
   "cell_type": "code",
   "execution_count": 2,
   "metadata": {},
   "outputs": [
    {
     "name": "stdout",
     "output_type": "stream",
     "text": [
      "Size of the image matrix =  62668800\n"
     ]
    }
   ],
   "source": [
    "path = \"./Sample/Train_Full_Data/\"\n",
    "folders = os.listdir(path)\n",
    "imageList=[]\n",
    "imageMatrix = []\n",
    "newIm = []\n",
    "labels=[]\n",
    "# Get list of folders in current path\n",
    "for folder in folders:\n",
    "    newPath = path + folder  #Create new path by adding folder name\n",
    "    folderName = os.path.split(os.path.abspath(newPath))[1]\n",
    "    characterName = folderName.split(\"_\")[2]\n",
    "    imageList=[f for f in os.listdir(newPath) if os.path.splitext(f)[-1] == '.png'] #Check if PNG files only then add\n",
    "    for image in imageList:   #Traverse the list of files and add each file name to the imageFile\n",
    "        im = Image.open(newPath+\"//\"+image)\n",
    "        labels.append(characterName)\n",
    "        imageArray = np.asarray(im.getdata())\n",
    "        flattenedImageArray = imageArray.flatten()\n",
    "        imageMatrix.append(flattenedImageArray)\n",
    "print(\"Size of the image matrix = \",np.size(imageMatrix))"
   ]
  },
  {
   "cell_type": "code",
   "execution_count": null,
   "metadata": {},
   "outputs": [],
   "source": []
  }
 ],
 "metadata": {
  "kernelspec": {
   "display_name": "Python 3",
   "language": "python",
   "name": "python3"
  },
  "language_info": {
   "codemirror_mode": {
    "name": "ipython",
    "version": 3
   },
   "file_extension": ".py",
   "mimetype": "text/x-python",
   "name": "python",
   "nbconvert_exporter": "python",
   "pygments_lexer": "ipython3",
   "version": "3.7.4"
  }
 },
 "nbformat": 4,
 "nbformat_minor": 4
}
